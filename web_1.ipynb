{
 "cells": [
  {
   "cell_type": "code",
   "execution_count": 1,
   "metadata": {},
   "outputs": [],
   "source": [
    "# pip install webdriver-manager"
   ]
  },
  {
   "cell_type": "code",
   "execution_count": 2,
   "metadata": {},
   "outputs": [],
   "source": [
    "# pip install selenium"
   ]
  },
  {
   "cell_type": "code",
   "execution_count": 3,
   "metadata": {},
   "outputs": [],
   "source": [
    "# matplotlib inline \n",
    "import matplotlib.pyplot as plt\n",
    "import pandas as pd\n",
    "import numpy as np\n",
    "from selenium import webdriver \n",
    "from selenium.webdriver.chrome.service import Service\n",
    "from webdriver_manager.chrome import ChromeDriverManager\n",
    "from selenium.webdriver.common.by import By\n",
    "from selenium.webdriver.common.keys import Keys\n",
    "from time import sleep"
   ]
  },
  {
   "cell_type": "code",
   "execution_count": 4,
   "metadata": {},
   "outputs": [],
   "source": [
    "# Turns list of jobs into dataframe\n",
    "def pass_jobs(data):\n",
    "    data = pd.DataFrame(data)\n",
    "    return data"
   ]
  },
  {
   "cell_type": "code",
   "execution_count": 5,
   "metadata": {},
   "outputs": [
    {
     "name": "stdout",
     "output_type": "stream",
     "text": [
      "\n"
     ]
    },
    {
     "name": "stderr",
     "output_type": "stream",
     "text": [
      "[WDM] - ====== WebDriver manager ======\n",
      "[WDM] - Current google-chrome version is 101.0.4951\n",
      "[WDM] - Get LATEST chromedriver version for 101.0.4951 google-chrome\n",
      "[WDM] - Driver [/Users/Luca_Dev/.wdm/drivers/chromedriver/mac64/101.0.4951.41/chromedriver] found in cache\n"
     ]
    },
    {
     "data": {
      "text/plain": [
       "<selenium.webdriver.chrome.webdriver.WebDriver (session=\"e9a94513455e67eaa2e870a05aead405\")>"
      ]
     },
     "execution_count": 5,
     "metadata": {},
     "output_type": "execute_result"
    }
   ],
   "source": [
    "# Create chorme websdriver objects\n",
    "# driver = webdriver.Chrome(ChromeDriverManager().install())\n",
    "driver = webdriver.Chrome(service=Service(ChromeDriverManager().install()))\n",
    "driver"
   ]
  },
  {
   "cell_type": "code",
   "execution_count": 6,
   "metadata": {},
   "outputs": [],
   "source": [
    "# Get's the page url and post's to the webdriver\n",
    "page_url = 'https://uk.indeed.com/jobs?q=data%20scientist&l=London%2C%20Greater%20London&vjk=31add7b7d6ac6ea0'\n",
    "driver.get(page_url)"
   ]
  },
  {
   "cell_type": "code",
   "execution_count": 7,
   "metadata": {},
   "outputs": [
    {
     "data": {
      "text/plain": [
       "'\\nApply button for job section\\n'"
      ]
     },
     "execution_count": 7,
     "metadata": {},
     "output_type": "execute_result"
    }
   ],
   "source": [
    "''' \n",
    "Finds and extracts the elements in pages html elements\n",
    "and then it invokes the button click method\n",
    "to clear the cookies pop-up.\n",
    "'''\n",
    "\n",
    "driver.find_element(By.XPATH, '//button[text()=\"Accept All Cookies\"]').click()\n",
    "\n",
    "'''\n",
    "Apply button for job section\n",
    "'''\n",
    "#   apply_btn=driver.find_element(By.XPATH, '//button[text()=\"Apply now\"]').click()"
   ]
  },
  {
   "cell_type": "code",
   "execution_count": 8,
   "metadata": {},
   "outputs": [],
   "source": [
    "# position = str(input(\"Enter position: \"))\n",
    "# locale = str(input(\"Enter Location: \"))\n",
    "\n",
    "# search_bar = driver.find_element(By.ID, '/html/body/div[1]/div[2]/div/span/div[4]/div[2]/div/div/div/div/form/div/div[1]/div')\n",
    "# where_bar =  driver.find_element(By.ID, '/html/body/div[1]/div[2]/div/span/div[4]/div[2]/div/div/div/div/form/div/div[2]/div')\n",
    "\n",
    "# search_bar.send_keys(position,Keys.ENTER)\n",
    "# where_bar.send_keys(locale,Keys.ENTER)\n",
    "\n",
    "# search_bar.submit()\n",
    "# where_bar.submit()\n"
   ]
  },
  {
   "cell_type": "code",
   "execution_count": 9,
   "metadata": {},
   "outputs": [],
   "source": [
    "'''\n",
    "Scraping for job roles\n",
    "'''\n",
    "titles = driver.find_elements(By.CLASS_NAME,\"jcs-JobTitle[href]\")\n",
    "roles = []\n",
    "for title in titles:\n",
    "     roles.append(title.text)\n",
    "\n",
    "employers = driver.find_elements(By.CLASS_NAME,'companyName')\n",
    "companies=[]\n",
    "for company in employers:\n",
    "     companies.append(company.text)\n",
    "\n",
    "job_locations = driver.find_elements(By.CLASS_NAME,\"companyLocation\")\n",
    "locations =[]\n",
    "for local in job_locations:\n",
    "    locations.append(local.text)\n",
    "    \n",
    "# Returns job links\n",
    "web_links = driver.find_elements(By.CLASS_NAME,\"jcs-JobTitle[href]\")\n",
    "links =[]\n",
    "for link in web_links:\n",
    "    links.append(link.get_attribute('href'))"
   ]
  },
  {
   "cell_type": "code",
   "execution_count": 10,
   "metadata": {},
   "outputs": [],
   "source": [
    "# Create multiple data Series\n",
    "roles_series = pd.Series(roles)\n",
    "companies_series = pd.Series(companies)\n",
    "location_series = pd.Series(locations)\n",
    "links_series = pd.Series(links)"
   ]
  },
  {
   "cell_type": "code",
   "execution_count": 11,
   "metadata": {},
   "outputs": [
    {
     "name": "stdout",
     "output_type": "stream",
     "text": [
      "(15, 4)\n"
     ]
    }
   ],
   "source": [
    "# Created dict for  dataframes\n",
    "data = {'Roles':roles_series, 'Companies':companies_series, 'Location':locations, 'Links':links_series}\n",
    "# Creates data frame\n",
    "jobs = pass_jobs(data)\n",
    "print(jobs.shape)"
   ]
  },
  {
   "cell_type": "code",
   "execution_count": 12,
   "metadata": {},
   "outputs": [
    {
     "data": {
      "text/html": [
       "<div>\n",
       "<style scoped>\n",
       "    .dataframe tbody tr th:only-of-type {\n",
       "        vertical-align: middle;\n",
       "    }\n",
       "\n",
       "    .dataframe tbody tr th {\n",
       "        vertical-align: top;\n",
       "    }\n",
       "\n",
       "    .dataframe thead th {\n",
       "        text-align: right;\n",
       "    }\n",
       "</style>\n",
       "<table border=\"1\" class=\"dataframe\">\n",
       "  <thead>\n",
       "    <tr style=\"text-align: right;\">\n",
       "      <th></th>\n",
       "      <th>Roles</th>\n",
       "      <th>Companies</th>\n",
       "      <th>Location</th>\n",
       "      <th>Links</th>\n",
       "    </tr>\n",
       "  </thead>\n",
       "  <tbody>\n",
       "    <tr>\n",
       "      <th>0</th>\n",
       "      <td>Data Scientist</td>\n",
       "      <td>Lloyds Banking Group</td>\n",
       "      <td>London</td>\n",
       "      <td>https://uk.indeed.com/rc/clk?jk=2b84ab1619d9ec...</td>\n",
       "    </tr>\n",
       "    <tr>\n",
       "      <th>1</th>\n",
       "      <td>Junior Big Data</td>\n",
       "      <td>Information Tech Consultants</td>\n",
       "      <td>London</td>\n",
       "      <td>https://uk.indeed.com/pagead/clk?mo=r&amp;ad=-6NYl...</td>\n",
       "    </tr>\n",
       "    <tr>\n",
       "      <th>2</th>\n",
       "      <td></td>\n",
       "      <td></td>\n",
       "      <td>London</td>\n",
       "      <td>https://uk.indeed.com/company/Newforce-Global-...</td>\n",
       "    </tr>\n",
       "    <tr>\n",
       "      <th>3</th>\n",
       "      <td></td>\n",
       "      <td></td>\n",
       "      <td>Hybrid remote in London SE1</td>\n",
       "      <td>https://uk.indeed.com/rc/clk?jk=22f6726bd094cc...</td>\n",
       "    </tr>\n",
       "    <tr>\n",
       "      <th>4</th>\n",
       "      <td></td>\n",
       "      <td></td>\n",
       "      <td>London</td>\n",
       "      <td>https://uk.indeed.com/rc/clk?jk=6bc722518e80c6...</td>\n",
       "    </tr>\n",
       "  </tbody>\n",
       "</table>\n",
       "</div>"
      ],
      "text/plain": [
       "             Roles                     Companies                     Location  \\\n",
       "0   Data Scientist          Lloyds Banking Group                       London   \n",
       "1  Junior Big Data  Information Tech Consultants                       London   \n",
       "2                                                                      London   \n",
       "3                                                 Hybrid remote in London SE1   \n",
       "4                                                                      London   \n",
       "\n",
       "                                               Links  \n",
       "0  https://uk.indeed.com/rc/clk?jk=2b84ab1619d9ec...  \n",
       "1  https://uk.indeed.com/pagead/clk?mo=r&ad=-6NYl...  \n",
       "2  https://uk.indeed.com/company/Newforce-Global-...  \n",
       "3  https://uk.indeed.com/rc/clk?jk=22f6726bd094cc...  \n",
       "4  https://uk.indeed.com/rc/clk?jk=6bc722518e80c6...  "
      ]
     },
     "execution_count": 12,
     "metadata": {},
     "output_type": "execute_result"
    }
   ],
   "source": [
    "jobs.head()"
   ]
  },
  {
   "cell_type": "code",
   "execution_count": 13,
   "metadata": {},
   "outputs": [],
   "source": [
    "jobs.to_csv('today_list_1.csv', index= False)"
   ]
  }
 ],
 "metadata": {
  "interpreter": {
   "hash": "aee8b7b246df8f9039afb4144a1f6fd8d2ca17a180786b69acc140d282b71a49"
  },
  "kernelspec": {
   "display_name": "Python 3.9.6 64-bit",
   "language": "python",
   "name": "python3"
  },
  "language_info": {
   "codemirror_mode": {
    "name": "ipython",
    "version": 3
   },
   "file_extension": ".py",
   "mimetype": "text/x-python",
   "name": "python",
   "nbconvert_exporter": "python",
   "pygments_lexer": "ipython3",
   "version": "3.9.6"
  },
  "orig_nbformat": 4
 },
 "nbformat": 4,
 "nbformat_minor": 2
}
